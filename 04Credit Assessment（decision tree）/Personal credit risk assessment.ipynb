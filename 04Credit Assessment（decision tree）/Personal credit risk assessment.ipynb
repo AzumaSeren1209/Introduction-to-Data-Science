{
 "cells": [
  {
   "cell_type": "code",
   "execution_count": 3,
   "metadata": {},
   "outputs": [],
   "source": [
    "# 导入相关库包\n",
    "import pandas as pd\n",
    "from sklearn.model_selection import train_test_split\n",
    "from sklearn.tree import DecisionTreeClassifier\n",
    "from sklearn.metrics import accuracy_score, classification_report, confusion_matrix\n",
    "\n",
    "# 载入数据\n",
    "credit = pd.read_csv('credit.csv')"
   ]
  },
  {
   "cell_type": "code",
   "execution_count": 4,
   "id": "a4425b87",
   "metadata": {},
   "outputs": [],
   "source": [
    "# 数据预处理与训练数据集构建\n",
    "\n",
    "# 根据表格当中的列名及数据，创建特征映射字典，便于决策树构建\n",
    "col_dicts = {\n",
    "    'checking_balance': {'1 - 200 DM': 2, '< 0 DM': 1, '> 200 DM': 3, 'unknown': 0},\n",
    "    'credit_history': {'critical': 0, 'delayed': 2, 'fully repaid': 3, 'fully repaid this bank': 4, 'repaid': 1},\n",
    "    'employment_length': {'0 - 1 yrs': 1, '1 - 4 yrs': 2, '4 - 7 yrs': 3, '> 7 yrs': 4, 'unemployed': 0},\n",
    "    'foreign_worker': {'no': 1, 'yes': 0},\n",
    "    'housing': {'for free': 1, 'own': 0, 'rent': 2},\n",
    "    'installment_plan': {'bank': 1, 'none': 0, 'stores': 2},\n",
    "    'job': {'management self-employed': 3, 'skilled employee': 2, 'unemployed non-resident': 0, 'unskilled resident': 1},\n",
    "    'other_debtors': {'co-applicant': 2, 'guarantor': 1, 'none': 0},\n",
    "    'personal_status': {'divorced male': 2, 'female': 1, 'married male': 3, 'single male': 0},\n",
    "    'property': {'building society savings': 1, 'other': 3, 'real estate': 0, 'unknown/none': 2},\n",
    "    'purpose': {'business': 5, 'car (new)': 3, 'car (used)': 4, 'domestic appliances': 6, 'education': 1, 'furniture': 2,\n",
    "                'others': 8, 'radio/tv': 0, 'repairs': 7, 'retraining': 9},\n",
    "    'savings_balance': {'101 - 500 DM': 2, '501 - 1000 DM': 3, '< 100 DM': 1, '> 1000 DM': 4, 'unknown': 0},\n",
    "    'telephone': {'none': 1, 'yes': 0}\n",
    "}\n",
    "\n",
    "# 由于数据集当中有一部分数据是类名，不是数字值，而sklearn的包只能处理数字值。此处使用特征映射字典将非数字值替换为数字值，便于model fitting\n",
    "for col in col_dicts:\n",
    "    credit[col] = credit[col].map(col_dicts[col])\n",
    "\n",
    "# 准备特征和目标变量\n",
    "X = credit.drop('default', axis=1)  # 特征矩阵\n",
    "y = credit['default']  # 目标变量\n",
    "\n",
    "# 划分训练集和测试集\n",
    "X_train, X_test, y_train, y_test = train_test_split(X, y, test_size=0.3, random_state=0)\n",
    "\n",
    "# 创建决策树分类器\n",
    "credit_model = DecisionTreeClassifier(criterion='entropy')  # 使用信息熵"
   ]
  },
  {
   "cell_type": "code",
   "execution_count": 5,
   "id": "d10686eb",
   "metadata": {},
   "outputs": [],
   "source": [
    "# 在训练集上训练模型\n",
    "credit_model.fit(X_train, y_train)\n",
    "\n",
    "# 在测试集上进行预测\n",
    "y_pred = credit_model.predict(X_test)"
   ]
  },
  {
   "cell_type": "code",
   "execution_count": 6,
   "id": "cc64101b",
   "metadata": {},
   "outputs": [
    {
     "name": "stdout",
     "output_type": "stream",
     "text": [
      "模型在测试集上的准确率: 0.71\n",
      "              precision    recall  f1-score   support\n",
      "\n",
      "           1       0.77      0.86      0.81       214\n",
      "           2       0.49      0.35      0.41        86\n",
      "\n",
      "    accuracy                           0.71       300\n",
      "   macro avg       0.63      0.60      0.61       300\n",
      "weighted avg       0.69      0.71      0.69       300\n",
      "\n",
      "[[183  31]\n",
      " [ 56  30]]\n"
     ]
    }
   ],
   "source": [
    "#模型结果评估\n",
    "\n",
    "# 计算准确率\n",
    "accuracy = accuracy_score(y_test, y_pred)\n",
    "print(\"模型在测试集上的准确率: {:.2f}\".format(accuracy))\n",
    "\n",
    "# 打印分类报告和混淆矩阵\n",
    "print(classification_report(y_test, y_pred))\n",
    "print(confusion_matrix(y_test, y_pred))\n"
   ]
  }
 ],
 "metadata": {
  "kernelspec": {
   "display_name": "base",
   "language": "python",
   "name": "python3"
  },
  "language_info": {
   "codemirror_mode": {
    "name": "ipython",
    "version": 3
   },
   "file_extension": ".py",
   "mimetype": "text/x-python",
   "name": "python",
   "nbconvert_exporter": "python",
   "pygments_lexer": "ipython3",
   "version": "3.11.4"
  }
 },
 "nbformat": 4,
 "nbformat_minor": 5
}
